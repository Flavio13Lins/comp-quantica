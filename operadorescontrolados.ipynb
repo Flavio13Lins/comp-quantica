{
 "cells": [
  {
   "cell_type": "markdown",
   "metadata": {},
   "source": [
    "# Operações controladas"
   ]
  },
  {
   "cell_type": "code",
   "execution_count": 1,
   "metadata": {},
   "outputs": [],
   "source": [
    "import qutip\n",
    "import numpy as np\n",
    "import qiskit"
   ]
  },
  {
   "cell_type": "code",
   "execution_count": 2,
   "metadata": {},
   "outputs": [],
   "source": [
    "def xgate():\n",
    "    mat = np.matrix([[0, 1], [1, 0]])\n",
    "    return qutip.Qobj(mat, dims = [[2],[2]])\n",
    "X = xgate()"
   ]
  },
  {
   "cell_type": "markdown",
   "metadata": {},
   "source": [
    "**Teorema**. Suponha que $U$ é um operador unitário sobre um qbit. Então existem operadores unitários $A$, $B$, $C$ sobre um único qbit, tais que $ABC = I$ e $e^{i\\alpha}AXBXC = U$.\n",
    "\n",
    "Prova. Faça $A = R_z(\\beta)R_y(\\gamma/2)$, $B=R_y(-\\gamma/2)R_z(-(\\delta+\\beta)/2)$ e $C = R_z((\\delta-\\beta)/2)$. Onde $\\alpha$, $\\beta$, $\\gamma$ e $\\delta$ são definidos em [operações sobre um qbit](operadores1qbit.ipynb)"
   ]
  },
  {
   "cell_type": "code",
   "execution_count": 3,
   "metadata": {},
   "outputs": [],
   "source": [
    "# Exemplo Hadamard\n",
    "\n",
    "alpha = -np.pi/2\n",
    "beta = np.pi\n",
    "gamma = 3*np.pi/2\n",
    "delta = 0\n",
    "A = qutip.rz(beta) * qutip.ry(gamma/2)\n",
    "B = qutip.ry(-gamma/2) * qutip.rz(-(delta + beta)/2)\n",
    "C = qutip.rz((delta-beta)/2)"
   ]
  },
  {
   "cell_type": "code",
   "execution_count": 4,
   "metadata": {},
   "outputs": [
    {
     "data": {
      "text/latex": [
       "Quantum object: dims = [[2], [2]], shape = (2, 2), type = oper, isherm = True\\begin{equation*}\\left(\\begin{array}{*{11}c}1.0 & 0.0\\\\0.0 & 1.0\\\\\\end{array}\\right)\\end{equation*}"
      ],
      "text/plain": [
       "Quantum object: dims = [[2], [2]], shape = (2, 2), type = oper, isherm = True\n",
       "Qobj data =\n",
       "[[1. 0.]\n",
       " [0. 1.]]"
      ]
     },
     "execution_count": 4,
     "metadata": {},
     "output_type": "execute_result"
    }
   ],
   "source": [
    "A * B * C"
   ]
  },
  {
   "cell_type": "code",
   "execution_count": 5,
   "metadata": {},
   "outputs": [
    {
     "data": {
      "text/latex": [
       "Quantum object: dims = [[2], [2]], shape = (2, 2), type = oper, isherm = True\\begin{equation*}\\left(\\begin{array}{*{11}c}0.707 & 0.707\\\\0.707 & -0.707\\\\\\end{array}\\right)\\end{equation*}"
      ],
      "text/plain": [
       "Quantum object: dims = [[2], [2]], shape = (2, 2), type = oper, isherm = True\n",
       "Qobj data =\n",
       "[[ 0.70710678  0.70710678]\n",
       " [ 0.70710678 -0.70710678]]"
      ]
     },
     "execution_count": 5,
     "metadata": {},
     "output_type": "execute_result"
    }
   ],
   "source": [
    "mat = np.matrix([[0, 1], [1, 0]])\n",
    "np.e**(1j*alpha) * A * X * B * X * C "
   ]
  },
  {
   "cell_type": "markdown",
   "metadata": {},
   "source": [
    "### Implementando Hadamard controlado no qiskit"
   ]
  },
  {
   "cell_type": "code",
   "execution_count": 6,
   "metadata": {},
   "outputs": [],
   "source": [
    "def contrlGate(circuito, alpha, beta, gamma, delta, q0, q1):\n",
    "\n",
    "\n",
    "    # aplicar C\n",
    "    circuito.rz((delta-beta)/2, q1)\n",
    "\n",
    "    # cnot\n",
    "    circuito.cx(q0,q1)\n",
    "\n",
    "    # aplicar B\n",
    "    circuito.rz(-(delta + beta)/2, q1)\n",
    "    circuito.ry(-gamma/2., q1)\n",
    "\n",
    "    # cnot\n",
    "    circuito.cx(q0,q1)\n",
    "\n",
    "    # aplicar A\n",
    "    circuito.ry(gamma/2., q1)\n",
    "    circuito.rz(beta, q1)\n",
    "    \n",
    "    # e^{i \\alpha}\n",
    "    circuito.u1(alpha, q0)\n",
    "\n"
   ]
  },
  {
   "cell_type": "code",
   "execution_count": 7,
   "metadata": {},
   "outputs": [
    {
     "data": {
      "text/html": [
       "<pre style=\"word-wrap: normal;white-space: pre;background: #fff0;line-height: 1.1;font-family: &quot;Courier New&quot;,Courier,monospace\">         ┌───┐                                                  ┌───────────┐»\n",
       "q0_0: |0>┤ X ├───────────────■───────────────────────────────■──┤ U1(-pi/2) ├»\n",
       "         ├───┤┌───────────┐┌─┴─┐┌───────────┐┌────────────┐┌─┴─┐├───────────┤»\n",
       "q0_1: |0>┤ X ├┤ Rz(-pi/2) ├┤ X ├┤ Rz(-pi/2) ├┤ Ry(-3pi/4) ├┤ X ├┤ Ry(3pi/4) ├»\n",
       "         └───┘└───────────┘└───┘└───────────┘└────────────┘└───┘└───────────┘»\n",
       " c0_0: 0 ════════════════════════════════════════════════════════════════════»\n",
       "                                                                             »\n",
       "«                   \n",
       "«q0_0: ─────────────\n",
       "«      ┌────────┐┌─┐\n",
       "«q0_1: ┤ Rz(pi) ├┤M├\n",
       "«      └────────┘└╥┘\n",
       "«c0_0: ═══════════╩═\n",
       "«                   </pre>"
      ],
      "text/plain": [
       "<qiskit.visualization.text.TextDrawing at 0x18d379c32e8>"
      ]
     },
     "execution_count": 7,
     "metadata": {},
     "output_type": "execute_result"
    }
   ],
   "source": [
    "# Hadamard controlado com estado inicial |11>\n",
    "alpha = -np.pi/2.\n",
    "beta = np.pi\n",
    "gamma = 3.*np.pi/2\n",
    "delta = 0.\n",
    "q = qiskit.QuantumRegister(2)\n",
    "cr = qiskit.ClassicalRegister(1)\n",
    "circuito = qiskit.QuantumCircuit(q, cr)\n",
    "\n",
    "circuito.x(q)\n",
    "contrlGate(circuito, alpha, beta, gamma, delta, q[0], q[1])\n",
    "circuito.measure(q[1], cr[0])\n",
    "circuito.draw()\n",
    "\n",
    "\n"
   ]
  },
  {
   "cell_type": "code",
   "execution_count": 8,
   "metadata": {},
   "outputs": [
    {
     "name": "stdout",
     "output_type": "stream",
     "text": [
      "{'1': 526, '0': 498}\n"
     ]
    }
   ],
   "source": [
    "from qiskit import BasicAer\n",
    "backend = BasicAer.get_backend('qasm_simulator')\n",
    "job = qiskit.execute(circuito, backend, shots=1024)\n",
    "result = job.result()\n",
    "counts = result.get_counts(circuito)\n",
    "print(counts)"
   ]
  },
  {
   "cell_type": "code",
   "execution_count": 9,
   "metadata": {},
   "outputs": [
    {
     "name": "stdout",
     "output_type": "stream",
     "text": [
      "{'0': 1024}\n"
     ]
    }
   ],
   "source": [
    "# Hadamard controlado com estado inicial |00>\n",
    "alpha = -np.pi/2.\n",
    "beta = np.pi\n",
    "gamma = 3.*np.pi/2\n",
    "delta = 0.\n",
    "q = qiskit.QuantumRegister(2)\n",
    "cr = qiskit.ClassicalRegister(1)\n",
    "circuito = qiskit.QuantumCircuit(q, cr)\n",
    "\n",
    "#circuito.x(q)\n",
    "contrlGate(circuito, alpha, beta, gamma, delta, q[0], q[1])\n",
    "circuito.measure(q[1], cr[0])\n",
    "circuito.draw()\n",
    "\n",
    "from qiskit import BasicAer\n",
    "backend = BasicAer.get_backend('qasm_simulator')\n",
    "job = qiskit.execute(circuito, backend, shots=1024)\n",
    "result = job.result()\n",
    "counts = result.get_counts(circuito)\n",
    "print(counts)"
   ]
  },
  {
   "cell_type": "markdown",
   "metadata": {},
   "source": [
    "## Z controlado"
   ]
  },
  {
   "cell_type": "code",
   "execution_count": 10,
   "metadata": {},
   "outputs": [
    {
     "data": {
      "text/html": [
       "<pre style=\"word-wrap: normal;white-space: pre;background: #fff0;line-height: 1.1;font-family: &quot;Courier New&quot;,Courier,monospace\">                                                         ┌──────────┐         »\n",
       "q2_0: |0>──────────────■──────────────────────────────■──┤ U1(pi/2) ├─────────»\n",
       "         ┌──────────┐┌─┴─┐┌───────────┐┌───────────┐┌─┴─┐├──────────┤┌───────┐»\n",
       "q2_1: |0>┤ Rz(pi/2) ├┤ X ├┤ Rz(-pi/2) ├┤ Ry(-pi/2) ├┤ X ├┤ Ry(pi/2) ├┤ Rz(0) ├»\n",
       "         └──────────┘└───┘└───────────┘└───────────┘└───┘└──────────┘└───────┘»\n",
       " c2_0: 0 ═════════════════════════════════════════════════════════════════════»\n",
       "                                                                              »\n",
       "«         \n",
       "«q2_0: ───\n",
       "«      ┌─┐\n",
       "«q2_1: ┤M├\n",
       "«      └╥┘\n",
       "«c2_0: ═╩═\n",
       "«         </pre>"
      ],
      "text/plain": [
       "<qiskit.visualization.text.TextDrawing at 0x18d38a037b8>"
      ]
     },
     "execution_count": 10,
     "metadata": {},
     "output_type": "execute_result"
    }
   ],
   "source": [
    "# Circuito Z controlado \n",
    "alpha = np.pi/2\n",
    "beta = 0\n",
    "gamma = np.pi\n",
    "delta = np.pi\n",
    "q = qiskit.QuantumRegister(2)\n",
    "cr = qiskit.ClassicalRegister(1)\n",
    "circuito = qiskit.QuantumCircuit(q, cr)\n",
    "\n",
    "#circuito.x(q)\n",
    "contrlGate(circuito, alpha, beta, gamma, delta, q[0], q[1])\n",
    "circuito.measure(q[1], cr[0])\n",
    "circuito.draw()"
   ]
  },
  {
   "cell_type": "markdown",
   "metadata": {},
   "source": [
    "Alguns operadores podem ser removidos do circuito para implementar o operador Z-controlado. "
   ]
  },
  {
   "cell_type": "code",
   "execution_count": 11,
   "metadata": {},
   "outputs": [
    {
     "data": {
      "text/latex": [
       "Quantum object: dims = [[2], [2]], shape = (2, 2), type = oper, isherm = True\\begin{equation*}\\left(\\begin{array}{*{11}c}1.0 & 0.0\\\\0.0 & 1.0\\\\\\end{array}\\right)\\end{equation*}"
      ],
      "text/plain": [
       "Quantum object: dims = [[2], [2]], shape = (2, 2), type = oper, isherm = True\n",
       "Qobj data =\n",
       "[[1. 0.]\n",
       " [0. 1.]]"
      ]
     },
     "execution_count": 11,
     "metadata": {},
     "output_type": "execute_result"
    }
   ],
   "source": [
    "qutip.ry(0)"
   ]
  },
  {
   "cell_type": "code",
   "execution_count": 12,
   "metadata": {},
   "outputs": [
    {
     "data": {
      "text/latex": [
       "Quantum object: dims = [[2], [2]], shape = (2, 2), type = oper, isherm = True\\begin{equation*}\\left(\\begin{array}{*{11}c}1.0 & 0.0\\\\0.0 & 1.0\\\\\\end{array}\\right)\\end{equation*}"
      ],
      "text/plain": [
       "Quantum object: dims = [[2], [2]], shape = (2, 2), type = oper, isherm = True\n",
       "Qobj data =\n",
       "[[1. 0.]\n",
       " [0. 1.]]"
      ]
     },
     "execution_count": 12,
     "metadata": {},
     "output_type": "execute_result"
    }
   ],
   "source": [
    "qutip.rz(0)"
   ]
  },
  {
   "cell_type": "markdown",
   "metadata": {},
   "source": [
    "Outra possibilidade para implementar Z-controlado"
   ]
  },
  {
   "cell_type": "code",
   "execution_count": 13,
   "metadata": {},
   "outputs": [
    {
     "data": {
      "text/html": [
       "<pre style=\"word-wrap: normal;white-space: pre;background: #fff0;line-height: 1.1;font-family: &quot;Courier New&quot;,Courier,monospace\">         ┌───┐     ┌───┐\n",
       "q3_0: |0>┤ H ├──■──┤ H ├\n",
       "         └───┘┌─┴─┐└───┘\n",
       "q3_1: |0>─────┤ X ├─────\n",
       "              └───┘     </pre>"
      ],
      "text/plain": [
       "<qiskit.visualization.text.TextDrawing at 0x18d389f9e80>"
      ]
     },
     "execution_count": 13,
     "metadata": {},
     "output_type": "execute_result"
    }
   ],
   "source": [
    "q = qiskit.QuantumRegister(2)\n",
    "circuito = qiskit.QuantumCircuit(q)\n",
    "circuito.h(q[0])\n",
    "circuito.cx(q[0], q[1])\n",
    "circuito.h(q[0])\n",
    "circuito.draw()"
   ]
  },
  {
   "cell_type": "code",
   "execution_count": 14,
   "metadata": {},
   "outputs": [],
   "source": [
    " def raiz_operador(operador):\n",
    "        eig = np.linalg.eig(operador)\n",
    "        aval0 = eig[0][0]\n",
    "        aval1 = eig[0][1]\n",
    "        avec0 = eig[1][:,0]\n",
    "        avec1 = eig[1][:,1] \n",
    "        raiz = np.sqrt(aval0 + 0j) * avec0 * avec0.T + np.sqrt(aval1 + 0j) * avec1 * avec1.T\n",
    "        return raiz"
   ]
  },
  {
   "cell_type": "code",
   "execution_count": 15,
   "metadata": {},
   "outputs": [
    {
     "name": "stdout",
     "output_type": "stream",
     "text": [
      "[[0.5+0.5j 0.5-0.5j]\n",
      " [0.5-0.5j 0.5+0.5j]]\n",
      "-----\n",
      "[[0.-2.46519033e-32j 1.+0.00000000e+00j]\n",
      " [1.+0.00000000e+00j 0.+2.46519033e-32j]]\n"
     ]
    },
    {
     "data": {
      "text/plain": [
       "matrix([[1.00000000e+00+0.j, 2.46519033e-32+0.j],\n",
       "        [2.46519033e-32+0.j, 1.00000000e+00+0.j]])"
      ]
     },
     "execution_count": 15,
     "metadata": {},
     "output_type": "execute_result"
    }
   ],
   "source": [
    "X = np.matrix([[0, 1],[1, 0]])\n",
    "H = (1/np.sqrt(2)) *np.matrix([[1, 1],[1, -1]])\n",
    "V = raiz_operador(X)\n",
    "print(V)\n",
    "print('-----')\n",
    "print(V*V)\n",
    "V*V.conjugate().T"
   ]
  },
  {
   "cell_type": "code",
   "execution_count": 16,
   "metadata": {},
   "outputs": [],
   "source": [
    "norma = np.linalg.norm(V[0, 0])"
   ]
  },
  {
   "cell_type": "code",
   "execution_count": 17,
   "metadata": {},
   "outputs": [],
   "source": [
    "alpha = V[0, 0] / norma"
   ]
  },
  {
   "cell_type": "code",
   "execution_count": 18,
   "metadata": {},
   "outputs": [],
   "source": [
    "V_l = (1/alpha) * V"
   ]
  },
  {
   "cell_type": "code",
   "execution_count": 19,
   "metadata": {},
   "outputs": [
    {
     "data": {
      "text/plain": [
       "matrix([[0.70710678+0.j        , 0.        -0.70710678j],\n",
       "        [0.        -0.70710678j, 0.70710678+0.j        ]])"
      ]
     },
     "execution_count": 19,
     "metadata": {},
     "output_type": "execute_result"
    }
   ],
   "source": [
    "V_l"
   ]
  },
  {
   "cell_type": "code",
   "execution_count": 20,
   "metadata": {},
   "outputs": [
    {
     "data": {
      "text/plain": [
       "(0.7853981633974485-0j)"
      ]
     },
     "execution_count": 20,
     "metadata": {},
     "output_type": "execute_result"
    }
   ],
   "source": [
    "theta = np.arccos(V_l[0,0])\n",
    "theta"
   ]
  }
 ],
 "metadata": {
  "kernelspec": {
   "display_name": "Python 3",
   "language": "python",
   "name": "python3"
  },
  "language_info": {
   "codemirror_mode": {
    "name": "ipython",
    "version": 3
   },
   "file_extension": ".py",
   "mimetype": "text/x-python",
   "name": "python",
   "nbconvert_exporter": "python",
   "pygments_lexer": "ipython3",
   "version": "3.6.5"
  }
 },
 "nbformat": 4,
 "nbformat_minor": 2
}
