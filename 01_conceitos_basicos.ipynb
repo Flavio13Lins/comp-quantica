{
 "cells": [
  {
   "cell_type": "code",
   "execution_count": 34,
   "metadata": {
    "slideshow": {
     "slide_type": "skip"
    }
   },
   "outputs": [],
   "source": [
    "# importar módulos\n",
    "import numpy as np\n",
    "import qiskit"
   ]
  },
  {
   "cell_type": "markdown",
   "metadata": {
    "slideshow": {
     "slide_type": "slide"
    }
   },
   "source": [
    "# Computação quântica\n",
    "## Conceitos básicos \n",
    "\n",
    "- bits quânticos (qbit) \n",
    "- operadores sobre um qbit\n",
    "- Medição\n",
    "- Simulação utilizando qiskit\n",
    "- Execução em um processador quântico\n",
    "- Produto tensorial\n",
    "- Emaranhamento"
   ]
  },
  {
   "cell_type": "markdown",
   "metadata": {
    "slideshow": {
     "slide_type": "slide"
    }
   },
   "source": [
    "## Introdução\n",
    "\n",
    "* A matéria em escala subatômica apresenta um comportamento diferente do descrito na física clássica. \n",
    "    * A computação clássica processa bits que podem estar no \"estado\" 0 ou 1. \n",
    "    * A computação quântica processa bits quânticos ou **qbits** podem estar em um número contínuo de possibilidades. \n",
    "    "
   ]
  },
  {
   "cell_type": "markdown",
   "metadata": {
    "slideshow": {
     "slide_type": "slide"
    }
   },
   "source": [
    "## Introdução\n",
    "\n",
    "* Não é claro se existe um ganho computacional ao utilizarmos a computação quântica. No entanto existe uma forte evidência deste ganho.\n",
    "    * Por exemplo, o algoritmo quântico de fatoração em tempo polinomial.\n",
    "    * Algoritmo de busca com custo $O(\\sqrt{n})$"
   ]
  },
  {
   "cell_type": "markdown",
   "metadata": {
    "slideshow": {
     "slide_type": "skip"
    }
   },
   "source": [
    "## Introdução\n",
    "\n",
    "O principal objetivo deste curso é apresentar os conceitos da computação quântica, os principais algoritmos e métodos de programação para processadores quânticos de pequena escala.\n",
    "\n",
    "Diversas empresas, universidades e países estão realizando investimentos para a construção de um computador quântico. Apesar dos resultados teóricos, até a data desta aula ainda não existe uma aplicação prática de computadores quânticos que não possa ser realizada por computadores clássicos."
   ]
  },
  {
   "cell_type": "markdown",
   "metadata": {
    "collapsed": true,
    "slideshow": {
     "slide_type": "slide"
    }
   },
   "source": [
    "## Bits quânticos\n",
    "* Na literatura de computação quântica a notação de dirac $|\\cdot \\rangle$ é utilizada para representar vetores. Por exemplo,\n",
    "\n",
    "$$|0\\rangle = \\begin{bmatrix}1 \\\\ 0\\end{bmatrix} \\mbox{ e } |1\\rangle = \\begin{bmatrix}0 \\\\ 1\\end{bmatrix}.$$\n"
   ]
  },
  {
   "cell_type": "markdown",
   "metadata": {
    "slideshow": {
     "slide_type": "subslide"
    }
   },
   "source": [
    "## Bits quânticos\n",
    "* Enquanto os bits podem estar em apenas dois possíveis estados, os bits quânticos estão no espaço vetorial $\\mathbb{C}^2$ e podem estar em uma superposição de estados (em uma combinação linear de $|0\\rangle$ e $|1\\rangle$) $$|\\psi\\rangle = \\alpha|0\\rangle + \\beta|1\\rangle,$$.\n",
    "\n",
    "    onde $\\alpha$ e $\\beta$ são denominados amplitudes de probabilidade e $|\\alpha|^2+|\\beta|^2 = 1$"
   ]
  },
  {
   "cell_type": "markdown",
   "metadata": {
    "collapsed": true,
    "slideshow": {
     "slide_type": "slide"
    }
   },
   "source": [
    "## Medição projetiva\n",
    "\n",
    "* Os valores das amplitudes de probabilidade de um qbit não podem ser recuperados. \n",
    "* A única informação que obtemos ao observar um qbit $|\\psi\\rangle = \\alpha|0\\rangle + \\beta|1\\rangle$ é 0 com probabilidade $|\\alpha|^2$ e 1 com probabilidade $|\\beta|^2$. \n",
    "* Após a medição o estado do qbit colapsa e sucessivas medições retornarão o mesmo resultado."
   ]
  },
  {
   "cell_type": "markdown",
   "metadata": {
    "slideshow": {
     "slide_type": "slide"
    }
   },
   "source": [
    "# Medição projetiva (exemplo)\n",
    "* Com que probabilidade será obtido o resultado 0 ao medir o estado $|\\psi\\rangle = \\frac{1}{\\sqrt{3}}|0\\rangle + \\sqrt{\\frac{2}{3}}|1\\rangle$? \n"
   ]
  },
  {
   "cell_type": "markdown",
   "metadata": {
    "slideshow": {
     "slide_type": "fragment"
    }
   },
   "source": [
    "Ao realizar uma medição será obtido 0 com probabilidade $\\frac{1}{3}$ e neste caso o qbit irá colapsar para o estado $|\\psi\\rangle =|0\\rangle$ ou 1 com probabilidade $\\frac{2}{3}$ e neste caso o qbit irá colapsar para o estado $|\\psi\\rangle =|1\\rangle$."
   ]
  },
  {
   "cell_type": "markdown",
   "metadata": {
    "slideshow": {
     "slide_type": "slide"
    }
   },
   "source": [
    "## Operadores quânticos sobre um qbit\n",
    "* Na base computacional (ou base canônica) $\\{|0\\rangle, |1\\rangle\\}$, um operador quântico sobre um qbit pode ser representado por uma matriz unitária $2 \\times 2$. \n",
    "\n",
    "* Uma matriz $U$ é unitária se ao ser multiplicada por sua transposta conjugada $U^\\dagger$ obtiver a matriz identidade como resultado $UU^\\dagger = I$. \n",
    "\n",
    "* Toda matriz unitária $2 \\times 2$ representa um operador quântico válido.\n",
    "\n"
   ]
  },
  {
   "cell_type": "markdown",
   "metadata": {
    "slideshow": {
     "slide_type": "subslide"
    }
   },
   "source": [
    "* Alguns exemplos de operadores quânticos $I$, $H$, $X$, $Z$, $S$, $T$\n",
    "\n",
    "$$I = \\begin{bmatrix}\n",
    "1 & 0 \\\\\n",
    "0 & 1\n",
    "\\end{bmatrix}\\mbox{, } \n",
    "%\n",
    "X = \\begin{bmatrix}\n",
    "0 & 1 \\\\\n",
    "1 & 0\n",
    "\\end{bmatrix}\\mbox{, }\n",
    "%\n",
    "H = \\frac{1}{\\sqrt{2}}\\begin{bmatrix}\n",
    "1 & 1 \\\\\n",
    "1 & -1\n",
    "\\end{bmatrix}\\mbox{, }\n",
    "Z = \\begin{bmatrix}\n",
    "1 & 0 \\\\\n",
    "0 & -1\n",
    "\\end{bmatrix}$$\n",
    "\n",
    "$$\n",
    "S = \\begin{bmatrix}\n",
    "1 & 0 \\\\\n",
    "0 & i\n",
    "\\end{bmatrix}\\mbox{, } \n",
    "%\n",
    "T = \\begin{bmatrix}\n",
    "1 & 0 \\\\\n",
    "0 & e^{i\\pi/4}\n",
    "\\end{bmatrix}\\mbox{, } \n",
    "$$"
   ]
  },
  {
   "cell_type": "markdown",
   "metadata": {
    "slideshow": {
     "slide_type": "slide"
    }
   },
   "source": [
    "## Operadores quânticos sobre um qbit\n",
    "\n",
    "* Os operadores de rotação $R_z$, $R_y$, $R_x$ são descritos abaixo.\n",
    "\n",
    "$$R_x(\\theta) = \\begin{bmatrix}\n",
    "cos(\\theta/2) & -isen(\\theta/2) \\\\\n",
    "-isen(\\theta/2) & cos(\\theta/2)\n",
    "\\end{bmatrix}\\mbox{, }\n",
    "%\n",
    "R_y(\\theta) = \\begin{bmatrix}\n",
    "cos(\\theta/2) & -sen(\\theta/2) \\\\\n",
    "sen(\\theta/2) & cos(\\theta/2)\n",
    "\\end{bmatrix}\n",
    "$$\n",
    "\n",
    "$$\n",
    "R_z(\\theta) = \\begin{bmatrix}\n",
    "e^{-i\\theta/2} & 0 \\\\\n",
    "0 & e^{i\\theta/2}\n",
    "\\end{bmatrix}\n",
    "$$\n",
    "\n"
   ]
  },
  {
   "cell_type": "markdown",
   "metadata": {
    "slideshow": {
     "slide_type": "subslide"
    }
   },
   "source": [
    "* Os dispositivos quânticos disponíveis possuem um conjunto finito de funções para representar operadores quânticos. \n",
    "* Por exemplo, no computador ibmqx4 estão disponíveis as seguintes operações sobre um qbit.\n",
    "\n",
    "$$u3(\\theta, \\phi, \\lambda) = \n",
    "\\begin{bmatrix} \n",
    "    cos(\\theta/2) & -e^{i\\lambda}sen(\\theta/2) \\\\\n",
    "    e^{i\\phi}sen(\\theta/2) & e^{i(\\lambda+\\phi)}cos(\\theta/2)\n",
    "\\end{bmatrix}\\mbox{, } \n",
    "u2(\\phi, \\lambda)=\n",
    "\\begin{bmatrix}\n",
    "1 & -e^{i\\lambda}\\\\\n",
    "e^{i\\phi} & e^{i\\phi + i\\lambda}\n",
    "\\end{bmatrix}\n",
    "$$\n",
    "\n",
    "$$u1(\\lambda)=\n",
    "\\begin{bmatrix}\n",
    "1 & 0\\\\\n",
    "0 & e^{i\\lambda}\n",
    "\\end{bmatrix}$$"
   ]
  },
  {
   "cell_type": "markdown",
   "metadata": {
    "slideshow": {
     "slide_type": "slide"
    }
   },
   "source": [
    "## Simulação utilizando o numpy (opcional)\n",
    "\n",
    "* Podemos pensar em um bit quântico como uma classe com um atributo vetor privado. \n",
    "* O vetor é inicializado em $|0\\rangle$ e só pode ser modificado pela ação de operadores quânticos e medições."
   ]
  },
  {
   "cell_type": "code",
   "execution_count": 35,
   "metadata": {
    "slideshow": {
     "slide_type": "subslide"
    }
   },
   "outputs": [],
   "source": [
    "import numpy as np\n",
    "import random\n",
    "class qbit:\n",
    "    def __init__(self):\n",
    "        self._vector = np.matrix([[1],[0]]) # _ indica aproximadamente variável protegida\n",
    "    def measure(self):\n",
    "        a = random.random()\n",
    "        if a < self._vector[0]**2:\n",
    "            self._vector = np.matrix([[1],[0]])\n",
    "            return 0\n",
    "        else:\n",
    "            self._vector = np.matrix([[0],[1]])\n",
    "            return 1\n",
    "    def __str__(self):\n",
    "        return str(self._vector[0]) + '|0>' + ' + ' + str(self._vector[1]) + '|1>'\n",
    "    \n"
   ]
  },
  {
   "cell_type": "code",
   "execution_count": 36,
   "metadata": {
    "slideshow": {
     "slide_type": "subslide"
    }
   },
   "outputs": [],
   "source": [
    "class qop:\n",
    "    def __init__(self, matrix):\n",
    "        self.matrix = np.matrix(matrix)\n",
    "    def __mul__(self, qbit):\n",
    "        qbit._vector = self.matrix * qbit._vector\n",
    "    \n",
    "    def __str__(self):\n",
    "        return str(self.matrix)"
   ]
  },
  {
   "cell_type": "code",
   "execution_count": 37,
   "metadata": {
    "slideshow": {
     "slide_type": "subslide"
    }
   },
   "outputs": [],
   "source": [
    "# inicializa um qbit\n",
    "psi = qbit() \n",
    "\n",
    "# inicializa um operador quântico\n",
    "a = (1/np.sqrt(2)) * np.matrix([[1, 1],[1, -1]])\n",
    "H = qop(a)\n",
    "\n",
    "#Aplica o operador ao bit quântico\n",
    "H * psi"
   ]
  },
  {
   "cell_type": "code",
   "execution_count": 38,
   "metadata": {
    "slideshow": {
     "slide_type": "fragment"
    }
   },
   "outputs": [
    {
     "name": "stdout",
     "output_type": "stream",
     "text": [
      "[[0.70710678]]|0> + [[0.70710678]]|1>\n"
     ]
    }
   ],
   "source": [
    "print(psi) # esta operação não é possível em qbit real"
   ]
  },
  {
   "cell_type": "code",
   "execution_count": 39,
   "metadata": {
    "slideshow": {
     "slide_type": "fragment"
    }
   },
   "outputs": [
    {
     "data": {
      "text/plain": [
       "1"
      ]
     },
     "execution_count": 39,
     "metadata": {},
     "output_type": "execute_result"
    }
   ],
   "source": [
    "# Medição do qbit\n",
    "psi.measure()"
   ]
  },
  {
   "cell_type": "code",
   "execution_count": 40,
   "metadata": {
    "slideshow": {
     "slide_type": "fragment"
    }
   },
   "outputs": [
    {
     "name": "stdout",
     "output_type": "stream",
     "text": [
      "[[0]]|0> + [[1]]|1>\n"
     ]
    }
   ],
   "source": [
    "# Estado após a medição\n",
    "print(psi) # esta operação não é possível em qbit real"
   ]
  },
  {
   "cell_type": "markdown",
   "metadata": {
    "slideshow": {
     "slide_type": "slide"
    }
   },
   "source": [
    "## Qiskit\n",
    "* O [qiskit](https://qiskit.org) fornece ferramentas para a programação de computadores quânticos na linguagem de programação python. \n",
    "* Para inicializar um qbit utilizamos a função ```QuantumRegister``` \n",
    "* Para inicializar um bit clássico utilizamos a função ```ClassicalRegister``` \n",
    "* É necessário construir um circuito quântico com a classe `QuantumCircuit` para realizar operações sobre os qbits. \n",
    "* Estes são os objetos básicos para programar um sistema quântico.\n"
   ]
  },
  {
   "cell_type": "markdown",
   "metadata": {
    "slideshow": {
     "slide_type": "subslide"
    }
   },
   "source": [
    "```python \n",
    "QuantumRegister(size, name=None) \n",
    "# implementa um registrador quântico como um array de qbits\n",
    "\n",
    "ClassicalRegister(size, name=None) \n",
    "# implementa um registrador clássico como um array de bits\n",
    "\n",
    "QuantumCircuit(*regs, name=None) \n",
    "# Cria um circuito quântico. *regs lista de ClassicalRegisters e Quantum registers e name string\n",
    "```"
   ]
  },
  {
   "cell_type": "markdown",
   "metadata": {
    "slideshow": {
     "slide_type": "slide"
    }
   },
   "source": [
    "## Qiskit\n",
    "* No código abaixo um registrador quântico `qr`, um registrador clássico `cr` e um circuito quântico `qcircuit` contendo `qr` e `cr` são criados. \n",
    "* Em seguida o operador Hadammard `qcircuit.h(q)` é aplicado no registrador `q` e uma medição do registrador `qr` é realizada e seu resultado é armazenado no registrador `cr`."
   ]
  },
  {
   "cell_type": "code",
   "execution_count": 41,
   "metadata": {
    "slideshow": {
     "slide_type": "fragment"
    }
   },
   "outputs": [
    {
     "data": {
      "text/plain": [
       "<qiskit.circuit.instructionset.InstructionSet at 0x11e3ea9d0>"
      ]
     },
     "execution_count": 41,
     "metadata": {},
     "output_type": "execute_result"
    }
   ],
   "source": [
    "qr = qiskit.QuantumRegister(1, 'q')\n",
    "cr = qiskit.ClassicalRegister(1, 'c')\n",
    "qcircuit = qiskit.QuantumCircuit(qr, cr) \n",
    "qcircuit.h(qr)\n",
    "qcircuit.measure(qr, cr)"
   ]
  },
  {
   "cell_type": "markdown",
   "metadata": {
    "slideshow": {
     "slide_type": "slide"
    }
   },
   "source": [
    "## Circuito\n",
    "\n",
    "* Podemos visualizar o circuito `qcircuit` utilizando a função `draw()` da classe `QuantumCircuit`. \n",
    "* Um circuito é lido da esquerda para direita. \n",
    "* No circuito abaixo o operador $H$ é aplicado para em seguida realizarmos uma medição."
   ]
  },
  {
   "cell_type": "code",
   "execution_count": 42,
   "metadata": {
    "slideshow": {
     "slide_type": "fragment"
    }
   },
   "outputs": [
    {
     "data": {
      "text/html": [
       "<pre style=\"word-wrap: normal;white-space: pre;background: #fff0;line-height: 1.1;font-family: &quot;Courier New&quot;,Courier,monospace\">     ┌───┐┌─┐\n",
       "q_0: ┤ H ├┤M├\n",
       "     └───┘└╥┘\n",
       "c_0: ══════╩═\n",
       "             </pre>"
      ],
      "text/plain": [
       "     ┌───┐┌─┐\n",
       "q_0: ┤ H ├┤M├\n",
       "     └───┘└╥┘\n",
       "c_0: ══════╩═\n",
       "             "
      ]
     },
     "execution_count": 42,
     "metadata": {},
     "output_type": "execute_result"
    }
   ],
   "source": [
    "qcircuit.draw()\n"
   ]
  },
  {
   "cell_type": "markdown",
   "metadata": {
    "slideshow": {
     "slide_type": "slide"
    }
   },
   "source": [
    "## qasm_simulator\n",
    "* Para executar um circuito quântico devemos utilizar o módulo `Aer`. \n",
    "* A função `Aer.get_backend` permite selecionar onde o circuito será executado.\n",
    "* A função `qiskit.execute` permite executar o circuito.\n"
   ]
  },
  {
   "cell_type": "code",
   "execution_count": 44,
   "metadata": {
    "slideshow": {
     "slide_type": "fragment"
    }
   },
   "outputs": [],
   "source": [
    "from qiskit import Aer\n",
    "backend = Aer.get_backend('qasm_simulator')\n",
    "job = qiskit.execute(qcircuit, backend, shots=1024)"
   ]
  },
  {
   "cell_type": "code",
   "execution_count": 45,
   "metadata": {
    "slideshow": {
     "slide_type": "fragment"
    }
   },
   "outputs": [
    {
     "name": "stdout",
     "output_type": "stream",
     "text": [
      "{'1': 506, '0': 518}\n"
     ]
    }
   ],
   "source": [
    "result = job.result()\n",
    "counts = result.get_counts(qcircuit)\n",
    "print(counts)"
   ]
  },
  {
   "cell_type": "markdown",
   "metadata": {
    "slideshow": {
     "slide_type": "slide"
    }
   },
   "source": [
    "## Executando o circuito em um processador quântico\n",
    "\n",
    "* A IBM disponibiliza protótipos de processadores quânticos com \n",
    "    * 5 qbits (ibmq_5_yorktown - ibmqx2 e ibmq_5_tenerife - ibmqx4) \n",
    "    * 14 qbits (ibmq_16_melbourne)\n",
    "* Para acessar estes computadores é necessário criar uma conta em https://quantum-computing.ibm.com/login.\n",
    "\n",
    "* Após criar uma conta é necessário acessar perfil $\\rightarrow$ my account $\\rightarrow$ copy token. Esse token é pessoal e não deve ser compartilhado. Ao executar a célula abaixo informe seu token quando solicitado para registrar este notebook."
   ]
  },
  {
   "cell_type": "code",
   "execution_count": 23,
   "metadata": {
    "slideshow": {
     "slide_type": "slide"
    }
   },
   "outputs": [
    {
     "name": "stdout",
     "output_type": "stream",
     "text": [
      "Informe seu API_TOKEN: ········\n"
     ]
    }
   ],
   "source": [
    "from qiskit import IBMQ \n",
    "import getpass\n",
    "\n",
    "MY_API_TOKEN = getpass.getpass(\"Informe seu API_TOKEN: \")"
   ]
  },
  {
   "cell_type": "code",
   "execution_count": 24,
   "metadata": {
    "slideshow": {
     "slide_type": "fragment"
    }
   },
   "outputs": [
    {
     "data": {
      "text/plain": [
       "[<IBMQSimulator('ibmq_qasm_simulator') from IBMQ(hub='ibm-q', group='open', project='main')>,\n",
       " <IBMQBackend('ibmqx2') from IBMQ(hub='ibm-q', group='open', project='main')>,\n",
       " <IBMQBackend('ibmq_16_melbourne') from IBMQ(hub='ibm-q', group='open', project='main')>,\n",
       " <IBMQBackend('ibmq_vigo') from IBMQ(hub='ibm-q', group='open', project='main')>,\n",
       " <IBMQBackend('ibmq_ourense') from IBMQ(hub='ibm-q', group='open', project='main')>,\n",
       " <IBMQBackend('ibmq_london') from IBMQ(hub='ibm-q', group='open', project='main')>,\n",
       " <IBMQBackend('ibmq_burlington') from IBMQ(hub='ibm-q', group='open', project='main')>,\n",
       " <IBMQBackend('ibmq_essex') from IBMQ(hub='ibm-q', group='open', project='main')>,\n",
       " <IBMQBackend('ibmq_armonk') from IBMQ(hub='ibm-q', group='open', project='main')>,\n",
       " <IBMQBackend('ibmq_athens') from IBMQ(hub='ibm-q', group='open', project='main')>,\n",
       " <IBMQBackend('ibmq_rome') from IBMQ(hub='ibm-q', group='open', project='main')>]"
      ]
     },
     "execution_count": 24,
     "metadata": {},
     "output_type": "execute_result"
    }
   ],
   "source": [
    "IBMQ.enable_account(MY_API_TOKEN)\n",
    "provider = IBMQ.get_provider()\n",
    "provider.backends(operational=True)"
   ]
  },
  {
   "cell_type": "code",
   "execution_count": 15,
   "metadata": {
    "slideshow": {
     "slide_type": "slide"
    }
   },
   "outputs": [
    {
     "data": {
      "text/html": [
       "<pre style=\"word-wrap: normal;white-space: pre;background: #fff0;line-height: 1.1;font-family: &quot;Courier New&quot;,Courier,monospace\">     ┌───┐┌─┐\n",
       "q_0: ┤ H ├┤M├\n",
       "     └───┘└╥┘\n",
       "c_0: ══════╩═\n",
       "             </pre>"
      ],
      "text/plain": [
       "     ┌───┐┌─┐\n",
       "q_0: ┤ H ├┤M├\n",
       "     └───┘└╥┘\n",
       "c_0: ══════╩═\n",
       "             "
      ]
     },
     "execution_count": 15,
     "metadata": {},
     "output_type": "execute_result"
    }
   ],
   "source": [
    "qcircuit.draw()"
   ]
  },
  {
   "cell_type": "code",
   "execution_count": 26,
   "metadata": {
    "slideshow": {
     "slide_type": "fragment"
    }
   },
   "outputs": [
    {
     "name": "stdout",
     "output_type": "stream",
     "text": [
      "{'1': 552, '0': 472}\n"
     ]
    }
   ],
   "source": [
    "qbackend = provider.get_backend('ibmqx2')\n",
    "qjob = qiskit.execute(qcircuit, qbackend, shots=1024)\n",
    "qresult = qjob.result()\n",
    "qcounts = qresult.get_counts(qcircuit)\n",
    "print(qcounts)"
   ]
  },
  {
   "cell_type": "markdown",
   "metadata": {
    "slideshow": {
     "slide_type": "slide"
    }
   },
   "source": [
    "## Exemplo\n",
    "Crie um circuito que prepare o estado quântico $\\sqrt{0.1}|0\\rangle + \\sqrt{0.9}|1\\rangle$"
   ]
  },
  {
   "cell_type": "code",
   "execution_count": 46,
   "metadata": {
    "slideshow": {
     "slide_type": "fragment"
    }
   },
   "outputs": [
    {
     "name": "stdout",
     "output_type": "stream",
     "text": [
      "state_vector [0.31622777+0.j 0.9486833 +0.j]\n",
      "desired_state [0.31622776601683794, 0.9486832980505138]\n"
     ]
    }
   ],
   "source": [
    "desired_state = [np.sqrt(0.1), np.sqrt(0.9)]\n",
    "theta = 2 * np.arccos(desired_state[0])\n",
    "\n",
    "qc = QuantumCircuit(1)\n",
    "qc.ry(theta, 0)\n",
    "\n",
    "backend = qiskit.Aer.get_backend(\"statevector_simulator\")\n",
    "result = qiskit.execute(qc, backend).result()\n",
    "state_vector = result.get_statevector()\n",
    "print(\"state_vector\", state_vector)\n",
    "print(\"desired_state\", desired_state)\n"
   ]
  },
  {
   "cell_type": "markdown",
   "metadata": {
    "slideshow": {
     "slide_type": "slide"
    }
   },
   "source": [
    "## Exercícios\n",
    "\n",
    "\n",
    "1. Mostre que o operador $H$ é unitário."
   ]
  },
  {
   "cell_type": "code",
   "execution_count": null,
   "metadata": {
    "slideshow": {
     "slide_type": "fragment"
    }
   },
   "outputs": [],
   "source": []
  },
  {
   "cell_type": "markdown",
   "metadata": {
    "slideshow": {
     "slide_type": "subslide"
    }
   },
   "source": [
    "2. Mostre que $H^2 = I$\n"
   ]
  },
  {
   "cell_type": "code",
   "execution_count": null,
   "metadata": {
    "slideshow": {
     "slide_type": "fragment"
    }
   },
   "outputs": [],
   "source": []
  },
  {
   "cell_type": "markdown",
   "metadata": {
    "slideshow": {
     "slide_type": "subslide"
    }
   },
   "source": [
    "3. Quais são os autovalores e autovetores de $H$?"
   ]
  },
  {
   "cell_type": "code",
   "execution_count": null,
   "metadata": {
    "slideshow": {
     "slide_type": "fragment"
    }
   },
   "outputs": [],
   "source": []
  },
  {
   "cell_type": "markdown",
   "metadata": {
    "slideshow": {
     "slide_type": "subslide"
    }
   },
   "source": [
    "4. Determine o estado do qbit $|\\psi\\rangle = ZHX|0\\rangle$. Verifique a probabilidade de obtermos 0 ou 1 ao realizar a medição do qbit e simule as operações utilizando o qiskit para verificar sua estimativa.\n",
    "\n"
   ]
  },
  {
   "cell_type": "code",
   "execution_count": null,
   "metadata": {
    "slideshow": {
     "slide_type": "fragment"
    }
   },
   "outputs": [],
   "source": []
  },
  {
   "cell_type": "markdown",
   "metadata": {
    "slideshow": {
     "slide_type": "subslide"
    }
   },
   "source": [
    "5. Implemente um circuito quântico que crie a partir do $|0\\rangle$ o estado $\\frac{1}{\\sqrt{7}}|0\\rangle - \\frac{\\sqrt{6}}{\\sqrt{7}}|1\\rangle$\n",
    "\n"
   ]
  },
  {
   "cell_type": "code",
   "execution_count": null,
   "metadata": {
    "slideshow": {
     "slide_type": "fragment"
    }
   },
   "outputs": [],
   "source": []
  },
  {
   "cell_type": "markdown",
   "metadata": {
    "slideshow": {
     "slide_type": "subslide"
    }
   },
   "source": [
    "6. Utilizando o numpy, mostre que $HXH = Z$, $HYH = -Y$ e $HZH=X$"
   ]
  },
  {
   "cell_type": "code",
   "execution_count": null,
   "metadata": {
    "slideshow": {
     "slide_type": "fragment"
    }
   },
   "outputs": [],
   "source": []
  },
  {
   "cell_type": "markdown",
   "metadata": {
    "slideshow": {
     "slide_type": "slide"
    }
   },
   "source": [
    "## Múltiplos qbits\n",
    "\n",
    "* O produto tensorial $\\otimes$ é utilizado para representar múltiplos qbits.\n",
    "* Fundamental para compreensão da computação quântica.\n",
    "* No python, o produto tensorial é implementado na função `np.kron`"
   ]
  },
  {
   "cell_type": "markdown",
   "metadata": {
    "slideshow": {
     "slide_type": "slide"
    }
   },
   "source": [
    "## Produto tensorial\n",
    "\n",
    "Seja $A$ uma matriz $m \\times n$ e $B$ uma matriz $p \\times q$. O produto de Kronecker será a matriz\n",
    "\n",
    "$$A \\otimes B =\n",
    "\\begin{pmatrix}\n",
    "A_{11}B & A_{12}B & \\cdots & A_{1n}B \\\\\n",
    "A_{21}B & A_{22}B & \\cdots & A_{2n}B \\\\\n",
    "\\vdots & \\vdots & \\vdots & \\vdots \\\\\n",
    "A_{m1}B & A_{m2}B & \\cdots & A_{mn}B\n",
    "\\end{pmatrix}\n",
    "$$"
   ]
  },
  {
   "cell_type": "markdown",
   "metadata": {
    "slideshow": {
     "slide_type": "slide"
    }
   },
   "source": [
    "# Produto tensorial\n",
    "\n",
    "* Sejam $|\\psi_0\\rangle = |0\\rangle$ e $|\\psi_1\\rangle = |1\\rangle$\n",
    "* Calculando o produto tensorial obtemos $|\\psi_0\\rangle \\otimes |\\psi_0\\rangle$, $|\\psi_0\\rangle \\otimes |\\psi_1\\rangle$, $|\\psi_1\\rangle \\otimes |\\psi_0\\rangle$ e $|\\psi_1\\rangle \\otimes |\\psi_1\\rangle$\n",
    "\n",
    "$|0\\rangle \\otimes |0\\rangle = |00\\rangle$"
   ]
  },
  {
   "cell_type": "code",
   "execution_count": 47,
   "metadata": {
    "slideshow": {
     "slide_type": "fragment"
    }
   },
   "outputs": [],
   "source": [
    "psi0 = np.array([1, 0]).T\n",
    "psi1 = np.array([0, 1]).T"
   ]
  },
  {
   "cell_type": "code",
   "execution_count": 20,
   "metadata": {
    "slideshow": {
     "slide_type": "fragment"
    }
   },
   "outputs": [
    {
     "name": "stdout",
     "output_type": "stream",
     "text": [
      "[array([1, 0, 0, 0]), array([0, 1, 0, 0]), array([0, 0, 1, 0]), array([0, 0, 0, 1])]\n"
     ]
    }
   ],
   "source": [
    "psi00 = np.kron(psi0, psi0)\n",
    "psi01 = np.kron(psi0, psi1)\n",
    "psi10 = np.kron(psi1, psi0)\n",
    "psi11 = np.kron(psi1, psi1)\n",
    "print([psi00.T, psi01.T, psi10.T, psi11.T])"
   ]
  },
  {
   "cell_type": "code",
   "execution_count": 8,
   "metadata": {
    "slideshow": {
     "slide_type": "subslide"
    }
   },
   "outputs": [
    {
     "name": "stdout",
     "output_type": "stream",
     "text": [
      "[[ 0.70710678  0.70710678]\n",
      " [ 0.70710678 -0.70710678]] \n",
      "\n",
      "$H \\otimes H =$\n",
      "[[ 0.5  0.5  0.5  0.5]\n",
      " [ 0.5 -0.5  0.5 -0.5]\n",
      " [ 0.5  0.5 -0.5 -0.5]\n",
      " [ 0.5 -0.5 -0.5  0.5]]\n"
     ]
    }
   ],
   "source": [
    "H = (1/np.sqrt(2)) * np.array([[1, 1],[1, -1]])\n",
    "print(H, \"\\n\")\n",
    "\n",
    "print(\"$H \\otimes H =$\")\n",
    "print(np.kron(H,H))"
   ]
  },
  {
   "cell_type": "markdown",
   "metadata": {
    "slideshow": {
     "slide_type": "slide"
    }
   },
   "source": [
    "## Produto tensorial\n",
    "\n",
    "* Sejam $V$ e $W$ espaços vetoriais de dimensão $m$ e $n$ e com bases $A = \\{|\\psi_1\\rangle, \\cdots |\\psi_m\\rangle\\}$ e $B = \\{|\\theta_1\\rangle, \\cdots |\\theta_m\\rangle\\}$\n",
    "* O espaço vetorial $V \\otimes W$ é o espaço cuja base é formada pelos $mn$ elementos da forma $|\\alpha_i\\rangle \\otimes |\\beta_j\\rangle$."
   ]
  },
  {
   "cell_type": "markdown",
   "metadata": {
    "slideshow": {
     "slide_type": "fragment"
    }
   },
   "source": [
    "* O produto tensorial segue as seguintes propriedades:\n",
    "    * $(|v_1\\rangle+|v_2\\rangle) \\otimes |w\\rangle = |v_1\\rangle\\otimes|w\\rangle + |v_2\\rangle\\otimes|w\\rangle$\n",
    "    * $|v\\rangle \\otimes (|w_1\\rangle+|w_2\\rangle) = |v\\rangle\\otimes|w_1\\rangle + |v\\rangle\\otimes|w_2\\rangle$\n",
    "    * $(a|v\\rangle) \\otimes |w\\rangle = |v\\rangle \\otimes (a|w\\rangle) = a(|v\\rangle \\otimes |w\\rangle)$"
   ]
  },
  {
   "cell_type": "markdown",
   "metadata": {
    "slideshow": {
     "slide_type": "subslide"
    }
   },
   "source": [
    "* Os elementos de $V \\otimes W$ podem ser escritos como\n",
    "$$\\alpha_{11} (|\\psi_1\\rangle\\otimes|\\phi_1\\rangle) + \\cdots + \\alpha_{mn}|\\psi_m\\rangle \\otimes |\\theta_n\\rangle$$\n",
    "* Escrevemos $|v\\rangle|w\\rangle$ ou $|vw\\rangle$ para denotar $|v\\rangle \\otimes |w\\rangle$."
   ]
  },
  {
   "cell_type": "markdown",
   "metadata": {
    "slideshow": {
     "slide_type": "slide"
    }
   },
   "source": [
    "# Produto tensorial\n",
    "* Sejam $A$ e $B$ são operadores lineares sobre $V$ e $W$ e $|v\\rangle$ e $|w\\rangle$ são vetores em $V$ e $W$,  $A\\otimes B$ é definido como\n",
    "\n",
    "$$(A\\otimes B)(|v\\rangle \\otimes |w\\rangle) = A|v\\rangle \\otimes B |w\\rangle$$"
   ]
  },
  {
   "cell_type": "markdown",
   "metadata": {
    "slideshow": {
     "slide_type": "fragment"
    }
   },
   "source": [
    "### Exercício\n",
    " * Calcule: \n",
    "     * $(H \\otimes H) (|0\\rangle \\otimes |0\\rangle)$\n",
    "     * $H|0\\rangle \\otimes H|0\\rangle$"
   ]
  },
  {
   "cell_type": "code",
   "execution_count": 10,
   "metadata": {
    "slideshow": {
     "slide_type": "subslide"
    }
   },
   "outputs": [
    {
     "data": {
      "text/html": [
       "<pre style=\"word-wrap: normal;white-space: pre;background: #fff0;line-height: 1.1;font-family: &quot;Courier New&quot;,Courier,monospace\">     ┌───┐\n",
       "q_0: ┤ H ├\n",
       "     ├───┤\n",
       "q_1: ┤ H ├\n",
       "     └───┘</pre>"
      ],
      "text/plain": [
       "     ┌───┐\n",
       "q_0: ┤ H ├\n",
       "     ├───┤\n",
       "q_1: ┤ H ├\n",
       "     └───┘"
      ]
     },
     "execution_count": 10,
     "metadata": {},
     "output_type": "execute_result"
    }
   ],
   "source": [
    "from qiskit import QuantumCircuit\n",
    "qc = QuantumCircuit(2)\n",
    "qc.h(0)\n",
    "qc.h(1)\n",
    "qc.draw()"
   ]
  },
  {
   "cell_type": "markdown",
   "metadata": {
    "slideshow": {
     "slide_type": "slide"
    }
   },
   "source": [
    "## Porta não controlada\n",
    "\n",
    "* A porta CNOT atua sobre dois qbits e inverte o segundo caso o primeiro esteja no estado $|1\\rangle$\n",
    "    * $CNOT |00\\rangle = |00\\rangle$\n",
    "    * $CNOT |01\\rangle = |01\\rangle$\n",
    "    * $CNOT |10\\rangle = |11\\rangle$\n",
    "    * $CNOT |11\\rangle = |10\\rangle$\n"
   ]
  },
  {
   "cell_type": "markdown",
   "metadata": {
    "slideshow": {
     "slide_type": "subslide"
    }
   },
   "source": [
    "### Exemplo\n",
    "* Determine a matriz do operador CNOT na base $\\{|00\\rangle, |01\\rangle, |10\\rangle, |11\\rangle\\}$"
   ]
  },
  {
   "cell_type": "code",
   "execution_count": 48,
   "metadata": {
    "slideshow": {
     "slide_type": "fragment"
    }
   },
   "outputs": [
    {
     "name": "stdout",
     "output_type": "stream",
     "text": [
      "{'11': 516, '00': 508}\n"
     ]
    }
   ],
   "source": [
    "qc = QuantumCircuit(2, 2) #inicializa um circuito com 2 qbits e 2 bits\n",
    "qc.h(0) # prepara o estado 1/\\sqrt{2} (|00> + |01>)\n",
    "\n",
    "qc.cx(0, 1) \n",
    "\n",
    "qc.measure(0, 0)\n",
    "qc.measure(1, 1)\n",
    "\n",
    "backend = qiskit.Aer.get_backend(\"qasm_simulator\")\n",
    "\n",
    "result = qiskit.execute(qc, backend, shots=1024).result()\n",
    "counts = result.get_counts(qc)\n",
    "print(counts)"
   ]
  },
  {
   "cell_type": "markdown",
   "metadata": {
    "slideshow": {
     "slide_type": "slide"
    }
   },
   "source": [
    "## Estados emaranhados\n",
    "\n",
    "* Determine o estado $|\\psi\\rangle = CNOT(H\\otimes I)|00\\rangle$\n",
    "* Escreva este estado como o produto tensorial de dois qubits na forma $(a_0|0\\rangle+b_0|1\\rangle) \\otimes (a_1|0\\rangle+b_1|1\\rangle)$\n"
   ]
  },
  {
   "cell_type": "markdown",
   "metadata": {
    "slideshow": {
     "slide_type": "fragment"
    }
   },
   "source": [
    "* Estados com $n$ qbits que não podem ser fatorados como um produto tensorial de $n$ qbits são denominados **emaranhados**"
   ]
  },
  {
   "cell_type": "markdown",
   "metadata": {
    "slideshow": {
     "slide_type": "slide"
    }
   },
   "source": [
    "## Medição de sistemas com múltiplos qbits\n",
    "* Seja $|\\psi\\rangle = a_{00}|00\\rangle + a_{01}|01\\rangle + a_{10}|10\\rangle + a_{11}|11\\rangle$\n",
    "* Que resultado obtemos ao medir os dois qbits?\n",
    "* E se medirmos apenas o primeiro qbit?\n"
   ]
  },
  {
   "cell_type": "markdown",
   "metadata": {
    "slideshow": {
     "slide_type": "slide"
    }
   },
   "source": [
    "## Exercícios"
   ]
  },
  {
   "cell_type": "markdown",
   "metadata": {
    "slideshow": {
     "slide_type": "fragment"
    }
   },
   "source": [
    "1. Crie um circuito quântico que gere o estado $\\sqrt{0.2}|0\\rangle + \\sqrt{0.8}e^{0.3i}|1\\rangle$"
   ]
  },
  {
   "cell_type": "code",
   "execution_count": null,
   "metadata": {
    "slideshow": {
     "slide_type": "fragment"
    }
   },
   "outputs": [],
   "source": [
    "backend = Aer.get_backend(\"statevector_simulator\")\n",
    "qc = qiskit.QuantumCircuit(1)\n",
    "\n",
    "# seu código aqui\n",
    "\n",
    "\n",
    "job = qiskit.execute(qc, backend, shots=1024)\n",
    "result = job.result()\n",
    "state_vector = result.get_statevector()\n",
    "print(state_vector)\n"
   ]
  },
  {
   "cell_type": "markdown",
   "metadata": {
    "slideshow": {
     "slide_type": "subslide"
    }
   },
   "source": [
    "2. Crie um circuit quântico que gere o estado $\\frac{1}{\\sqrt{2}}\\left(|00\\rangle + |11\\rangle\\right)$"
   ]
  },
  {
   "cell_type": "code",
   "execution_count": 17,
   "metadata": {
    "slideshow": {
     "slide_type": "fragment"
    }
   },
   "outputs": [
    {
     "name": "stdout",
     "output_type": "stream",
     "text": [
      "[1.+0.j 0.+0.j 0.+0.j 0.+0.j]\n"
     ]
    }
   ],
   "source": [
    "backend = qiskit.Aer.get_backend(\"statevector_simulator\")\n",
    "qc = qiskit.QuantumCircuit(2)\n",
    "\n",
    "# seu código aqui\n",
    "\n",
    "\n",
    "job = qiskit.execute(qc, backend, shots=1024)\n",
    "result = job.result()\n",
    "state_vector = result.get_statevector()\n",
    "print(state_vector)"
   ]
  },
  {
   "cell_type": "markdown",
   "metadata": {
    "slideshow": {
     "slide_type": "subslide"
    }
   },
   "source": [
    "3. Crie um circuit quântico que gere o estado $\\frac{1}{\\sqrt{2}}\\left(|00\\rangle - e^{0.3\\pi}|11\\rangle\\right)$"
   ]
  },
  {
   "cell_type": "code",
   "execution_count": null,
   "metadata": {
    "slideshow": {
     "slide_type": "fragment"
    }
   },
   "outputs": [],
   "source": [
    "backend = qiskit.Aer.get_backend(\"statevector_simulator\")\n",
    "qc = qiskit.QuantumCircuit(2)\n",
    "\n",
    "# seu código aqui\n",
    "\n",
    "\n",
    "job = qiskit.execute(qc, backend, shots=1024)\n",
    "result = job.result()\n",
    "state_vector = result.get_statevector()\n",
    "print(state_vector)"
   ]
  },
  {
   "cell_type": "markdown",
   "metadata": {
    "slideshow": {
     "slide_type": "slide"
    }
   },
   "source": [
    "## Referências\n",
    "- Yanofsky, Noson S., and Mirco A. Mannucci. Quantum computing for computer scientists. Cambridge University Press, 2008.\n",
    "- Rieffel, Eleanor G., and Wolfgang H. Polak. Quantum computing: A gentle introduction. MIT Press, 2011.\n",
    "- Nielsen, Michael A., and Isaac Chuang. \"Quantum computation and quantum information.\" (2002): 558-559.\n",
    "- https://qiskit.org/\n"
   ]
  }
 ],
 "metadata": {
  "celltoolbar": "Slideshow",
  "kernelspec": {
   "display_name": "Python 3",
   "language": "python",
   "name": "python3"
  },
  "language_info": {
   "codemirror_mode": {
    "name": "ipython",
    "version": 3
   },
   "file_extension": ".py",
   "mimetype": "text/x-python",
   "name": "python",
   "nbconvert_exporter": "python",
   "pygments_lexer": "ipython3",
   "version": "3.7.7"
  },
  "rise": {
   "enable_chalkboard": true
  }
 },
 "nbformat": 4,
 "nbformat_minor": 2
}
